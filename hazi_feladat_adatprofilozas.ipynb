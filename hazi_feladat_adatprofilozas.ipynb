{
    "metadata": {
        "kernelspec": {
            "name": "SQL",
            "display_name": "SQL",
            "language": "sql"
        },
        "language_info": {
            "name": "sql",
            "version": ""
        }
    },
    "nbformat_minor": 2,
    "nbformat": 4,
    "cells": [
        {
            "cell_type": "markdown",
            "source": [
                "**Házi feladat**\n",
                "\n",
                "**Adatprofilozás**\n",
                "\n",
                "Adatbázis: webshop\n",
                "\n",
                "Táblanév: Rendeles\n",
                "\n",
                "1\\. oszlop: SZALL\\_CIM\n",
                "\n",
                "2\\. oszlop: REND\\_DATUM"
            ],
            "metadata": {
                "azdata_cell_guid": "c508ae9c-e7f5-4f0a-b56e-b92c10098572"
            },
            "attachments": {}
        },
        {
            "cell_type": "markdown",
            "source": [
                "**1\\. oszlop 1. lekérdezés**\n",
                "\n",
                "Hány sorban van rögzítve a szállítási cím, és hány sorban nincsen?"
            ],
            "metadata": {
                "azdata_cell_guid": "e0b6c114-a8ea-46d9-8b85-76224bf93548"
            },
            "attachments": {}
        },
        {
            "cell_type": "code",
            "source": [
                "SELECT CASE WHEN SZALL_CIM IS NULL THEN 'NEM'\r\n",
                "            ELSE 'IGEN'\r\n",
                "            END AS 'Szállítási cím rögzítve?',\r\n",
                "        COUNT(*) AS 'Db'\r\n",
                "FROM Rendeles\r\n",
                "GROUP BY CASE WHEN SZALL_CIM IS NULL THEN 'NEM'\r\n",
                "            ELSE 'IGEN'\r\n",
                "            END\r\n",
                "ORDER BY 2 DESC"
            ],
            "metadata": {
                "azdata_cell_guid": "4ac9f74b-e23a-4b80-a552-f91005d5105f",
                "language": "sql"
            },
            "outputs": [
                {
                    "output_type": "display_data",
                    "data": {
                        "text/html": "(2 rows affected)"
                    },
                    "metadata": {}
                },
                {
                    "output_type": "display_data",
                    "data": {
                        "text/html": "Total execution time: 00:00:00.041"
                    },
                    "metadata": {}
                },
                {
                    "output_type": "execute_result",
                    "execution_count": 73,
                    "data": {
                        "application/vnd.dataresource+json": {
                            "schema": {
                                "fields": [
                                    {
                                        "name": "Szállítási cím rögzítve?"
                                    },
                                    {
                                        "name": "Db"
                                    }
                                ]
                            },
                            "data": [
                                {
                                    "Szállítási cím rögzítve?": "NEM",
                                    "Db": "21689"
                                },
                                {
                                    "Szállítási cím rögzítve?": "IGEN",
                                    "Db": "6396"
                                }
                            ]
                        },
                        "text/html": "<table><tr><th>Szállítási cím rögzítve?</th><th>Db</th></tr><tr><td>NEM</td><td>21689</td></tr><tr><td>IGEN</td><td>6396</td></tr></table>"
                    },
                    "metadata": {
                        "azdata_chartOptions": {
                            "type": "pie",
                            "dataDirection": "vertical",
                            "columnsAsLabels": true,
                            "labelFirstColumn": false,
                            "legendPosition": "top"
                        }
                    }
                }
            ],
            "execution_count": 73
        },
        {
            "cell_type": "markdown",
            "source": [
                "**1\\. oszlop 2. lekérdezés**\n",
                "\n",
                "Hány különböző szállítási cím van rögzítve?"
            ],
            "metadata": {
                "azdata_cell_guid": "9b30aca2-3d5e-4774-9d85-6cbf01e05ae7"
            },
            "attachments": {}
        },
        {
            "cell_type": "code",
            "source": [
                "SELECT COUNT(DISTINCT SZALL_CIM) AS 'Szállítási cím db'\r\n",
                "FROM Rendeles\r\n",
                "WHERE SZALL_CIM IS NOT NULL"
            ],
            "metadata": {
                "azdata_cell_guid": "5f55cd08-c93d-412f-9027-fa6786cdccf1",
                "language": "sql"
            },
            "outputs": [
                {
                    "output_type": "display_data",
                    "data": {
                        "text/html": "(1 row affected)"
                    },
                    "metadata": {}
                },
                {
                    "output_type": "display_data",
                    "data": {
                        "text/html": "Total execution time: 00:00:00.041"
                    },
                    "metadata": {}
                },
                {
                    "output_type": "execute_result",
                    "execution_count": 74,
                    "data": {
                        "application/vnd.dataresource+json": {
                            "schema": {
                                "fields": [
                                    {
                                        "name": "Szállítási cím db"
                                    }
                                ]
                            },
                            "data": [
                                {
                                    "Szállítási cím db": "299"
                                }
                            ]
                        },
                        "text/html": "<table><tr><th>Szállítási cím db</th></tr><tr><td>299</td></tr></table>"
                    },
                    "metadata": {}
                }
            ],
            "execution_count": 74
        },
        {
            "cell_type": "markdown",
            "source": [
                "**1\\. oszlop 3. lekérdezés**\n",
                "\n",
                "Melyek azok a szállítási címek, amelyek budapestiek, és nem 32 a házszám?"
            ],
            "metadata": {
                "azdata_cell_guid": "d3b56b2b-57dd-4c31-8e50-9497af6ceeb9"
            },
            "attachments": {}
        },
        {
            "cell_type": "code",
            "source": [
                "SELECT DISTINCT SZALL_CIM\r\n",
                "FROM Rendeles\r\n",
                "WHERE SZALL_CIM LIKE 'Budapest%'\r\n",
                "\r\n",
                "EXCEPT\r\n",
                "\r\n",
                "SELECT DISTINCT SZALL_CIM\r\n",
                "FROM Rendeles\r\n",
                "WHERE SZALL_CIM LIKE '%32.'"
            ],
            "metadata": {
                "azdata_cell_guid": "c9b1f72a-b1b0-4c5c-a5b0-4e8369e75214",
                "language": "sql"
            },
            "outputs": [
                {
                    "output_type": "display_data",
                    "data": {
                        "text/html": "(2 rows affected)"
                    },
                    "metadata": {}
                },
                {
                    "output_type": "display_data",
                    "data": {
                        "text/html": "Total execution time: 00:00:00.040"
                    },
                    "metadata": {}
                },
                {
                    "output_type": "execute_result",
                    "execution_count": 75,
                    "data": {
                        "application/vnd.dataresource+json": {
                            "schema": {
                                "fields": [
                                    {
                                        "name": "SZALL_CIM"
                                    }
                                ]
                            },
                            "data": [
                                {
                                    "SZALL_CIM": "Budapest, Fő u. 2."
                                },
                                {
                                    "SZALL_CIM": "Budapest, Nagy u.14."
                                }
                            ]
                        },
                        "text/html": "<table><tr><th>SZALL_CIM</th></tr><tr><td>Budapest, Fő u. 2.</td></tr><tr><td>Budapest, Nagy u.14.</td></tr></table>"
                    },
                    "metadata": {}
                }
            ],
            "execution_count": 75
        },
        {
            "cell_type": "markdown",
            "source": [
                "**1\\. oszlop 4. lekérdezés**\n",
                "\n",
                "Szedjük szét két oszlopba a várost és az utca, házszámot!"
            ],
            "metadata": {
                "azdata_cell_guid": "55dfcb02-a175-42d7-a8cf-fd6e5a596865"
            },
            "attachments": {}
        },
        {
            "cell_type": "code",
            "source": [
                "SELECT LEFT(SZALL_CIM, CHARINDEX(',', SZALL_CIM)-1) AS 'Város',\r\n",
                "        RIGHT(SZALL_CIM, LEN(SZALL_CIM)-CHARINDEX(',',SZALL_CIM)) AS 'Utca, házszám'\r\n",
                "FROM Rendeles\r\n",
                "WHERE SZALL_CIM IS NOT NULL\r\n",
                "GROUP BY SZALL_CIM"
            ],
            "metadata": {
                "azdata_cell_guid": "c963f816-f82b-456f-a5ae-9ded10a76f6f",
                "language": "sql"
            },
            "outputs": [
                {
                    "output_type": "display_data",
                    "data": {
                        "text/html": "(299 rows affected)"
                    },
                    "metadata": {}
                },
                {
                    "output_type": "display_data",
                    "data": {
                        "text/html": "Total execution time: 00:00:00.054"
                    },
                    "metadata": {}
                },
                {
                    "output_type": "execute_result",
                    "execution_count": 23,
                    "data": {
                        "application/vnd.dataresource+json": {
                            "schema": {
                                "fields": [
                                    {
                                        "name": "Város"
                                    },
                                    {
                                        "name": "Utca, házszám"
                                    }
                                ]
                            },
                            "data": [
                                {
                                    "Város": "Martonvásár",
                                    "Utca, házszám": " Fő u. 2."
                                },
                                {
                                    "Város": "Szécsény",
                                    "Utca, házszám": " Fő u. 2."
                                },
                                {
                                    "Város": "Pusztamérges",
                                    "Utca, házszám": " Fő u. 2."
                                },
                                {
                                    "Város": "Nagykanizsa",
                                    "Utca, házszám": " Kiss u. 32."
                                },
                                {
                                    "Város": "Kővágóörs",
                                    "Utca, házszám": " Nagy u.14."
                                },
                                {
                                    "Város": "Répcelak",
                                    "Utca, házszám": " Fő u. 2."
                                },
                                {
                                    "Város": "Göd",
                                    "Utca, házszám": " Kiss u. 32."
                                },
                                {
                                    "Város": "Vácszentlászló",
                                    "Utca, házszám": " Kiss u. 32."
                                },
                                {
                                    "Város": "Tótkomlós",
                                    "Utca, házszám": " Fő u. 2."
                                },
                                {
                                    "Város": "Békés",
                                    "Utca, házszám": " Fő u. 2."
                                },
                                {
                                    "Város": "Sármellék",
                                    "Utca, házszám": " Fő u. 2."
                                },
                                {
                                    "Város": "Tiszakécske",
                                    "Utca, házszám": " Fő u. 2."
                                },
                                {
                                    "Város": "Dédestapolcsány",
                                    "Utca, házszám": " Nagy u.14."
                                },
                                {
                                    "Város": "Jászkisér",
                                    "Utca, házszám": " Fő u. 2."
                                },
                                {
                                    "Város": "Bonyhád",
                                    "Utca, házszám": " Fő u. 2."
                                },
                                {
                                    "Város": "Nyíregyháza",
                                    "Utca, házszám": " Nagy u.14."
                                },
                                {
                                    "Város": "Szigetvár",
                                    "Utca, házszám": " Nagy u.14."
                                },
                                {
                                    "Város": "Újkígyós",
                                    "Utca, házszám": " Kiss u. 32."
                                },
                                {
                                    "Város": "Agárd",
                                    "Utca, házszám": " Kiss u. 32."
                                },
                                {
                                    "Város": "Putnok",
                                    "Utca, házszám": " Fő u. 2."
                                },
                                {
                                    "Város": "Görbeháza",
                                    "Utca, házszám": " Kiss u. 32."
                                },
                                {
                                    "Város": "Mezőkeresztes",
                                    "Utca, házszám": " Nagy u.14."
                                },
                                {
                                    "Város": "Tihany",
                                    "Utca, házszám": " Fő u. 2."
                                },
                                {
                                    "Város": "Kővágóörs",
                                    "Utca, házszám": " Fő u. 2."
                                },
                                {
                                    "Város": "Szeged",
                                    "Utca, házszám": " Kiss u. 32."
                                },
                                {
                                    "Város": "Balatonalmádi",
                                    "Utca, házszám": " Nagy u.14."
                                },
                                {
                                    "Város": "Répcelak",
                                    "Utca, házszám": " Kiss u. 32."
                                },
                                {
                                    "Város": "Balatonalmádi",
                                    "Utca, házszám": " Fő u. 2."
                                },
                                {
                                    "Város": "Vásárosnamény",
                                    "Utca, házszám": " Nagy u.14."
                                },
                                {
                                    "Város": "Nagyszénás",
                                    "Utca, házszám": " Fő u. 2."
                                },
                                {
                                    "Város": "Baja",
                                    "Utca, házszám": " Fő u. 2."
                                },
                                {
                                    "Város": "Nyíregyháza",
                                    "Utca, házszám": " Fő u. 2."
                                },
                                {
                                    "Város": "Káptalantóti",
                                    "Utca, házszám": " Kiss u. 32."
                                },
                                {
                                    "Város": "Vésztő",
                                    "Utca, házszám": " Fő u. 2."
                                },
                                {
                                    "Város": "Gödöllő",
                                    "Utca, házszám": " Fő u. 2."
                                },
                                {
                                    "Város": "Csorvás",
                                    "Utca, házszám": " Kiss u. 32."
                                },
                                {
                                    "Város": "Ötvöskónyi",
                                    "Utca, házszám": " Nagy u.14."
                                },
                                {
                                    "Város": "Sülysáp",
                                    "Utca, házszám": " Fő u. 2."
                                },
                                {
                                    "Város": "Ozora",
                                    "Utca, házszám": " Fő u. 2."
                                },
                                {
                                    "Város": "Örkény",
                                    "Utca, házszám": " Fő u. 2."
                                },
                                {
                                    "Város": "Újfehértó",
                                    "Utca, házszám": " Kiss u. 32."
                                },
                                {
                                    "Város": "Tiszasüly",
                                    "Utca, házszám": " Nagy u.14."
                                },
                                {
                                    "Város": "Ötvöskónyi",
                                    "Utca, házszám": " Kiss u. 32."
                                },
                                {
                                    "Város": "Tokaj",
                                    "Utca, házszám": " Kiss u. 32."
                                },
                                {
                                    "Város": "Balatongyörök",
                                    "Utca, házszám": " Nagy u.14."
                                },
                                {
                                    "Város": "Gyenesdiás",
                                    "Utca, házszám": " Fő u. 2."
                                },
                                {
                                    "Város": "Encs",
                                    "Utca, házszám": " Nagy u.14."
                                },
                                {
                                    "Város": "Gárdony",
                                    "Utca, házszám": " Fő u. 2."
                                },
                                {
                                    "Város": "Görbeháza",
                                    "Utca, házszám": " Fő u. 2."
                                },
                                {
                                    "Város": "Veszprém",
                                    "Utca, házszám": " Kiss u. 32."
                                },
                                {
                                    "Város": "Előszállás",
                                    "Utca, házszám": " Kiss u. 32."
                                },
                                {
                                    "Város": "Szombathely",
                                    "Utca, házszám": " Fő u. 2."
                                },
                                {
                                    "Város": "Sármellék",
                                    "Utca, házszám": " Kiss u. 32."
                                },
                                {
                                    "Város": "Edelény",
                                    "Utca, házszám": " Nagy u.14."
                                },
                                {
                                    "Város": "Rákóczifalva",
                                    "Utca, házszám": " Kiss u. 32."
                                },
                                {
                                    "Város": "Szigetvár",
                                    "Utca, házszám": " Fő u. 2."
                                },
                                {
                                    "Város": "Albertirsa",
                                    "Utca, házszám": " Nagy u.14."
                                },
                                {
                                    "Város": "Sülysáp",
                                    "Utca, házszám": " Nagy u.14."
                                },
                                {
                                    "Város": "Ruzsa",
                                    "Utca, házszám": " Fő u. 2."
                                },
                                {
                                    "Város": "Edelény",
                                    "Utca, házszám": " Fő u. 2."
                                },
                                {
                                    "Város": "Bököny",
                                    "Utca, házszám": " Fő u. 2."
                                },
                                {
                                    "Város": "Törökszentmiklós",
                                    "Utca, házszám": " Nagy u.14."
                                },
                                {
                                    "Város": "Szekszárd",
                                    "Utca, házszám": " Fő u. 2."
                                },
                                {
                                    "Város": "Balatonalmádi",
                                    "Utca, házszám": " Kiss u. 32."
                                },
                                {
                                    "Város": "Nagykanizsa",
                                    "Utca, házszám": " Fő u. 2."
                                },
                                {
                                    "Város": "Tömörkény",
                                    "Utca, házszám": " Kiss u. 32."
                                },
                                {
                                    "Város": "Szentendre",
                                    "Utca, házszám": " Nagy u.14."
                                },
                                {
                                    "Város": "Tatabánya",
                                    "Utca, házszám": " Kiss u. 32."
                                },
                                {
                                    "Város": "Magyarszék",
                                    "Utca, házszám": " Nagy u.14."
                                },
                                {
                                    "Város": "Cegléd",
                                    "Utca, házszám": " Nagy u.14."
                                },
                                {
                                    "Város": "Cegléd",
                                    "Utca, házszám": " Kiss u. 32."
                                },
                                {
                                    "Város": "Tihany",
                                    "Utca, házszám": " Nagy u.14."
                                },
                                {
                                    "Város": "Biharnagybajom",
                                    "Utca, házszám": " Kiss u. 32."
                                },
                                {
                                    "Város": "Sülysáp",
                                    "Utca, házszám": " Kiss u. 32."
                                },
                                {
                                    "Város": "Egyek",
                                    "Utca, házszám": " Fő u. 2."
                                },
                                {
                                    "Város": "Békés",
                                    "Utca, házszám": " Nagy u.14."
                                },
                                {
                                    "Város": "Báta",
                                    "Utca, házszám": " Nagy u.14."
                                },
                                {
                                    "Város": "Gönc",
                                    "Utca, házszám": " Fő u. 2."
                                },
                                {
                                    "Város": "Békés",
                                    "Utca, házszám": " Kiss u. 32."
                                },
                                {
                                    "Város": "Solt",
                                    "Utca, házszám": " Kiss u. 32."
                                },
                                {
                                    "Város": "Tömörkény",
                                    "Utca, házszám": " Fő u. 2."
                                },
                                {
                                    "Város": "Cserkeszőlő",
                                    "Utca, házszám": " Fő u. 2."
                                },
                                {
                                    "Város": "Balatonlelle",
                                    "Utca, házszám": " Kiss u. 32."
                                },
                                {
                                    "Város": "Kengyel",
                                    "Utca, házszám": " Nagy u.14."
                                },
                                {
                                    "Város": "Vác",
                                    "Utca, házszám": " Kiss u. 32."
                                },
                                {
                                    "Város": "Isaszeg",
                                    "Utca, házszám": " Fő u. 2."
                                },
                                {
                                    "Város": "Táborfalva",
                                    "Utca, házszám": " Fő u. 2."
                                },
                                {
                                    "Város": "Ráckeve",
                                    "Utca, házszám": " Kiss u. 32."
                                },
                                {
                                    "Város": "Fadd",
                                    "Utca, házszám": " Kiss u. 32."
                                },
                                {
                                    "Város": "Szank",
                                    "Utca, házszám": " Nagy u.14."
                                },
                                {
                                    "Város": "Gödöllő",
                                    "Utca, házszám": " Kiss u. 32."
                                },
                                {
                                    "Város": "Balassagyarmat",
                                    "Utca, házszám": " Fő u. 2."
                                },
                                {
                                    "Város": "Zsadány",
                                    "Utca, házszám": " Nagy u.14."
                                },
                                {
                                    "Város": "Csanádpalota",
                                    "Utca, házszám": " Kiss u. 32."
                                },
                                {
                                    "Város": "Répcelak",
                                    "Utca, házszám": " Nagy u.14."
                                },
                                {
                                    "Város": "Cigánd",
                                    "Utca, házszám": " Nagy u.14."
                                },
                                {
                                    "Város": "Dunaharaszti",
                                    "Utca, házszám": " Kiss u. 32."
                                },
                                {
                                    "Város": "Ásotthalom",
                                    "Utca, házszám": " Kiss u. 32."
                                },
                                {
                                    "Város": "Kistelek",
                                    "Utca, házszám": " Fő u. 2."
                                },
                                {
                                    "Város": "Győr",
                                    "Utca, házszám": " Kiss u. 32."
                                },
                                {
                                    "Város": "Tokaj",
                                    "Utca, házszám": " Fő u. 2."
                                },
                                {
                                    "Város": "Miskolc",
                                    "Utca, házszám": " Nagy u.14."
                                },
                                {
                                    "Város": "Herceghalom",
                                    "Utca, házszám": " Fő u. 2."
                                },
                                {
                                    "Város": "Ruzsa",
                                    "Utca, házszám": " Kiss u. 32."
                                },
                                {
                                    "Város": "Balatonlelle",
                                    "Utca, házszám": " Fő u. 2."
                                },
                                {
                                    "Város": "Csanádpalota",
                                    "Utca, házszám": " Fő u. 2."
                                },
                                {
                                    "Város": "Szank",
                                    "Utca, házszám": " Kiss u. 32."
                                },
                                {
                                    "Város": "Cegléd",
                                    "Utca, házszám": " Fő u. 2."
                                },
                                {
                                    "Város": "Szászvár",
                                    "Utca, házszám": " Kiss u. 32."
                                },
                                {
                                    "Város": "Vácszentlászló",
                                    "Utca, házszám": " Nagy u.14."
                                },
                                {
                                    "Város": "Tiszaújváros",
                                    "Utca, házszám": " Fő u. 2."
                                },
                                {
                                    "Város": "Szeged",
                                    "Utca, házszám": " Nagy u.14."
                                },
                                {
                                    "Város": "Dabas",
                                    "Utca, házszám": " Kiss u. 32."
                                },
                                {
                                    "Város": "Lajosmizse",
                                    "Utca, házszám": " Fő u. 2."
                                },
                                {
                                    "Város": "Bácsalmás",
                                    "Utca, házszám": " Nagy u.14."
                                },
                                {
                                    "Város": "Tokaj",
                                    "Utca, házszám": " Nagy u.14."
                                },
                                {
                                    "Város": "Szabadszállás",
                                    "Utca, házszám": " Kiss u. 32."
                                },
                                {
                                    "Város": "Szekszárd",
                                    "Utca, házszám": " Nagy u.14."
                                },
                                {
                                    "Város": "Szentgotthárd",
                                    "Utca, házszám": " Nagy u.14."
                                },
                                {
                                    "Város": "Martonvásár",
                                    "Utca, házszám": " Nagy u.14."
                                },
                                {
                                    "Város": "Kővágóörs",
                                    "Utca, házszám": " Kiss u. 32."
                                },
                                {
                                    "Város": "Újkígyós",
                                    "Utca, házszám": " Nagy u.14."
                                },
                                {
                                    "Város": "Besenyszög",
                                    "Utca, házszám": " Kiss u. 32."
                                },
                                {
                                    "Város": "Solt",
                                    "Utca, házszám": " Nagy u.14."
                                },
                                {
                                    "Város": "Tiszaújváros",
                                    "Utca, házszám": " Nagy u.14."
                                },
                                {
                                    "Város": "Kistelek",
                                    "Utca, házszám": " Kiss u. 32."
                                },
                                {
                                    "Város": "Lébény",
                                    "Utca, házszám": " Nagy u.14."
                                },
                                {
                                    "Város": "Kisújszállás",
                                    "Utca, házszám": " Kiss u. 32."
                                },
                                {
                                    "Város": "Újfehértó",
                                    "Utca, házszám": " Fő u. 2."
                                },
                                {
                                    "Város": "Balmazújváros",
                                    "Utca, házszám": " Fő u. 2."
                                },
                                {
                                    "Város": "Bököny",
                                    "Utca, házszám": " Nagy u.14."
                                },
                                {
                                    "Város": "Veszprém",
                                    "Utca, házszám": " Fő u. 2."
                                },
                                {
                                    "Város": "Baja",
                                    "Utca, házszám": " Kiss u. 32."
                                },
                                {
                                    "Város": "Balatonlelle",
                                    "Utca, házszám": " Nagy u.14."
                                },
                                {
                                    "Város": "Egyek",
                                    "Utca, házszám": " Kiss u. 32."
                                },
                                {
                                    "Város": "Vácszentlászló",
                                    "Utca, házszám": " Fő u. 2."
                                },
                                {
                                    "Város": "Kisújszállás",
                                    "Utca, házszám": " Fő u. 2."
                                },
                                {
                                    "Város": "Győr",
                                    "Utca, házszám": " Nagy u.14."
                                },
                                {
                                    "Város": "Balmazújváros",
                                    "Utca, házszám": " Nagy u.14."
                                },
                                {
                                    "Város": "Balotaszállás",
                                    "Utca, házszám": " Kiss u. 32."
                                },
                                {
                                    "Város": "Miskolc",
                                    "Utca, házszám": " Kiss u. 32."
                                },
                                {
                                    "Város": "Tihany",
                                    "Utca, házszám": " Kiss u. 32."
                                },
                                {
                                    "Város": "Csorvás",
                                    "Utca, házszám": " Fő u. 2."
                                },
                                {
                                    "Város": "Gönc",
                                    "Utca, házszám": " Kiss u. 32."
                                },
                                {
                                    "Város": "Kengyel",
                                    "Utca, házszám": " Fő u. 2."
                                },
                                {
                                    "Város": "Encs",
                                    "Utca, házszám": " Fő u. 2."
                                },
                                {
                                    "Város": "Eger",
                                    "Utca, házszám": " Kiss u. 32."
                                },
                                {
                                    "Város": "Budapest",
                                    "Utca, házszám": " Kiss u. 32."
                                },
                                {
                                    "Város": "Tolna",
                                    "Utca, házszám": " Fő u. 2."
                                },
                                {
                                    "Város": "Dédestapolcsány",
                                    "Utca, házszám": " Fő u. 2."
                                },
                                {
                                    "Város": "Dabas",
                                    "Utca, házszám": " Fő u. 2."
                                },
                                {
                                    "Város": "Tiszasüly",
                                    "Utca, házszám": " Fő u. 2."
                                },
                                {
                                    "Város": "Cigánd",
                                    "Utca, házszám": " Fő u. 2."
                                },
                                {
                                    "Város": "Besenyszög",
                                    "Utca, házszám": " Fő u. 2."
                                },
                                {
                                    "Város": "Sarkad",
                                    "Utca, házszám": " Fő u. 2."
                                },
                                {
                                    "Város": "Nagykörű",
                                    "Utca, házszám": " Nagy u.14."
                                },
                                {
                                    "Város": "Balatonboglár",
                                    "Utca, házszám": " Kiss u. 32."
                                },
                                {
                                    "Város": "Tótkomlós",
                                    "Utca, házszám": " Nagy u.14."
                                },
                                {
                                    "Város": "Balatongyörök",
                                    "Utca, házszám": " Fő u. 2."
                                },
                                {
                                    "Város": "Agárd",
                                    "Utca, házszám": " Fő u. 2."
                                },
                                {
                                    "Város": "Jászkisér",
                                    "Utca, házszám": " Nagy u.14."
                                },
                                {
                                    "Város": "Ráckeve",
                                    "Utca, házszám": " Fő u. 2."
                                },
                                {
                                    "Város": "Szeged",
                                    "Utca, házszám": " Fő u. 2."
                                },
                                {
                                    "Város": "Vásárosnamény",
                                    "Utca, házszám": " Kiss u. 32."
                                },
                                {
                                    "Város": "Albertirsa",
                                    "Utca, házszám": " Kiss u. 32."
                                },
                                {
                                    "Város": "Szekszárd",
                                    "Utca, házszám": " Kiss u. 32."
                                },
                                {
                                    "Város": "Dédestapolcsány",
                                    "Utca, házszám": " Kiss u. 32."
                                },
                                {
                                    "Város": "Putnok",
                                    "Utca, házszám": " Kiss u. 32."
                                },
                                {
                                    "Város": "Budapest",
                                    "Utca, házszám": " Fő u. 2."
                                },
                                {
                                    "Város": "Tatabánya",
                                    "Utca, házszám": " Fő u. 2."
                                },
                                {
                                    "Város": "Fadd",
                                    "Utca, házszám": " Fő u. 2."
                                },
                                {
                                    "Város": "Szászvár",
                                    "Utca, házszám": " Nagy u.14."
                                },
                                {
                                    "Város": "Veszprém",
                                    "Utca, házszám": " Nagy u.14."
                                },
                                {
                                    "Város": "Kimle",
                                    "Utca, házszám": " Fő u. 2."
                                },
                                {
                                    "Város": "Besenyszög",
                                    "Utca, házszám": " Nagy u.14."
                                },
                                {
                                    "Város": "Nagykörű",
                                    "Utca, házszám": " Fő u. 2."
                                },
                                {
                                    "Város": "Tiszakécske",
                                    "Utca, házszám": " Kiss u. 32."
                                },
                                {
                                    "Város": "Balatongyörök",
                                    "Utca, házszám": " Kiss u. 32."
                                },
                                {
                                    "Város": "Báta",
                                    "Utca, házszám": " Fő u. 2."
                                },
                                {
                                    "Város": "Előszállás",
                                    "Utca, házszám": " Fő u. 2."
                                },
                                {
                                    "Város": "Tokodaltáró",
                                    "Utca, házszám": " Kiss u. 32."
                                },
                                {
                                    "Város": "Zsadány",
                                    "Utca, házszám": " Fő u. 2."
                                },
                                {
                                    "Város": "Egyek",
                                    "Utca, házszám": " Nagy u.14."
                                },
                                {
                                    "Város": "Bokod",
                                    "Utca, házszám": " Fő u. 2."
                                },
                                {
                                    "Város": "Tömörkény",
                                    "Utca, házszám": " Nagy u.14."
                                },
                                {
                                    "Város": "Káptalantóti",
                                    "Utca, házszám": " Nagy u.14."
                                },
                                {
                                    "Város": "Pilisvörösvár",
                                    "Utca, házszám": " Fő u. 2."
                                },
                                {
                                    "Város": "Gödöllő",
                                    "Utca, házszám": " Nagy u.14."
                                },
                                {
                                    "Város": "Szentendre",
                                    "Utca, házszám": " Kiss u. 32."
                                },
                                {
                                    "Város": "Magyarszék",
                                    "Utca, házszám": " Fő u. 2."
                                },
                                {
                                    "Város": "Sarkad",
                                    "Utca, házszám": " Kiss u. 32."
                                },
                                {
                                    "Város": "Vésztő",
                                    "Utca, házszám": " Kiss u. 32."
                                },
                                {
                                    "Város": "Káptalantóti",
                                    "Utca, házszám": " Fő u. 2."
                                },
                                {
                                    "Város": "Ozora",
                                    "Utca, házszám": " Kiss u. 32."
                                },
                                {
                                    "Város": "Lébény",
                                    "Utca, házszám": " Kiss u. 32."
                                },
                                {
                                    "Város": "Nagykörű",
                                    "Utca, házszám": " Kiss u. 32."
                                },
                                {
                                    "Város": "Sárbogárd",
                                    "Utca, házszám": " Fő u. 2."
                                },
                                {
                                    "Város": "Tiszavasvári",
                                    "Utca, házszám": " Nagy u.14."
                                },
                                {
                                    "Város": "Kistelek",
                                    "Utca, házszám": " Nagy u.14."
                                },
                                {
                                    "Város": "Tolna",
                                    "Utca, házszám": " Kiss u. 32."
                                },
                                {
                                    "Város": "Sellye",
                                    "Utca, házszám": " Kiss u. 32."
                                },
                                {
                                    "Város": "Makó",
                                    "Utca, házszám": " Kiss u. 32."
                                },
                                {
                                    "Város": "Sárbogárd",
                                    "Utca, házszám": " Kiss u. 32."
                                },
                                {
                                    "Város": "Nyíregyháza",
                                    "Utca, házszám": " Kiss u. 32."
                                },
                                {
                                    "Város": "Csorvás",
                                    "Utca, házszám": " Nagy u.14."
                                },
                                {
                                    "Város": "Cigánd",
                                    "Utca, házszám": " Kiss u. 32."
                                },
                                {
                                    "Város": "Sándorfalva",
                                    "Utca, házszám": " Fő u. 2."
                                },
                                {
                                    "Város": "Ráckeve",
                                    "Utca, házszám": " Nagy u.14."
                                },
                                {
                                    "Város": "Ozora",
                                    "Utca, házszám": " Nagy u.14."
                                },
                                {
                                    "Város": "Szabadszállás",
                                    "Utca, házszám": " Fő u. 2."
                                },
                                {
                                    "Város": "Pusztamérges",
                                    "Utca, házszám": " Kiss u. 32."
                                },
                                {
                                    "Város": "Vásárosnamény",
                                    "Utca, házszám": " Fő u. 2."
                                },
                                {
                                    "Város": "Sátoraljaújhely",
                                    "Utca, házszám": " Nagy u.14."
                                },
                                {
                                    "Város": "Ruzsa",
                                    "Utca, házszám": " Nagy u.14."
                                },
                                {
                                    "Város": "Pilisvörösvár",
                                    "Utca, házszám": " Kiss u. 32."
                                },
                                {
                                    "Város": "Sarkad",
                                    "Utca, házszám": " Nagy u.14."
                                },
                                {
                                    "Város": "Sátoraljaújhely",
                                    "Utca, házszám": " Fő u. 2."
                                },
                                {
                                    "Város": "Kisvárda",
                                    "Utca, házszám": " Fő u. 2."
                                },
                                {
                                    "Város": "Pilisvörösvár",
                                    "Utca, házszám": " Nagy u.14."
                                },
                                {
                                    "Város": "Tolna",
                                    "Utca, házszám": " Nagy u.14."
                                },
                                {
                                    "Város": "Vác",
                                    "Utca, házszám": " Fő u. 2."
                                },
                                {
                                    "Város": "Szentgotthárd",
                                    "Utca, házszám": " Kiss u. 32."
                                },
                                {
                                    "Város": "Báta",
                                    "Utca, házszám": " Kiss u. 32."
                                },
                                {
                                    "Város": "Mezőkeresztes",
                                    "Utca, házszám": " Kiss u. 32."
                                },
                                {
                                    "Város": "Abaújszántó",
                                    "Utca, házszám": " Kiss u. 32."
                                },
                                {
                                    "Város": "Piliscsaba",
                                    "Utca, házszám": " Nagy u.14."
                                },
                                {
                                    "Város": "Fonyód",
                                    "Utca, házszám": " Kiss u. 32."
                                },
                                {
                                    "Város": "Balassagyarmat",
                                    "Utca, házszám": " Nagy u.14."
                                },
                                {
                                    "Város": "Nagyszénás",
                                    "Utca, házszám": " Kiss u. 32."
                                },
                                {
                                    "Város": "Szigetvár",
                                    "Utca, házszám": " Kiss u. 32."
                                },
                                {
                                    "Város": "Szászvár",
                                    "Utca, házszám": " Fő u. 2."
                                },
                                {
                                    "Város": "Tatabánya",
                                    "Utca, házszám": " Nagy u.14."
                                },
                                {
                                    "Város": "Sándorfalva",
                                    "Utca, házszám": " Kiss u. 32."
                                },
                                {
                                    "Város": "Albertirsa",
                                    "Utca, házszám": " Fő u. 2."
                                },
                                {
                                    "Város": "Szentendre",
                                    "Utca, házszám": " Fő u. 2."
                                },
                                {
                                    "Város": "Bokod",
                                    "Utca, házszám": " Kiss u. 32."
                                },
                                {
                                    "Város": "Fadd",
                                    "Utca, házszám": " Nagy u.14."
                                },
                                {
                                    "Város": "Szabadszállás",
                                    "Utca, házszám": " Nagy u.14."
                                },
                                {
                                    "Város": "Tótkomlós",
                                    "Utca, házszám": " Kiss u. 32."
                                },
                                {
                                    "Város": "Bokod",
                                    "Utca, házszám": " Nagy u.14."
                                },
                                {
                                    "Város": "Tiszasüly",
                                    "Utca, házszám": " Kiss u. 32."
                                },
                                {
                                    "Város": "Jászkisér",
                                    "Utca, házszám": " Kiss u. 32."
                                },
                                {
                                    "Város": "Lébény",
                                    "Utca, házszám": " Fő u. 2."
                                },
                                {
                                    "Város": "Örkény",
                                    "Utca, házszám": " Kiss u. 32."
                                },
                                {
                                    "Város": "Isaszeg",
                                    "Utca, házszám": " Kiss u. 32."
                                },
                                {
                                    "Város": "Fonyód",
                                    "Utca, házszám": " Nagy u.14."
                                },
                                {
                                    "Város": "Táborfalva",
                                    "Utca, házszám": " Kiss u. 32."
                                },
                                {
                                    "Város": "Göd",
                                    "Utca, házszám": " Fő u. 2."
                                },
                                {
                                    "Város": "Előszállás",
                                    "Utca, házszám": " Nagy u.14."
                                },
                                {
                                    "Város": "Szank",
                                    "Utca, házszám": " Fő u. 2."
                                },
                                {
                                    "Város": "Isaszeg",
                                    "Utca, házszám": " Nagy u.14."
                                },
                                {
                                    "Város": "Eger",
                                    "Utca, házszám": " Nagy u.14."
                                },
                                {
                                    "Város": "Győr",
                                    "Utca, házszám": " Fő u. 2."
                                },
                                {
                                    "Város": "Sellye",
                                    "Utca, házszám": " Fő u. 2."
                                },
                                {
                                    "Város": "Törökszentmiklós",
                                    "Utca, házszám": " Fő u. 2."
                                },
                                {
                                    "Város": "Zsadány",
                                    "Utca, házszám": " Kiss u. 32."
                                },
                                {
                                    "Város": "Gyenesdiás",
                                    "Utca, házszám": " Nagy u.14."
                                },
                                {
                                    "Város": "Budapest",
                                    "Utca, házszám": " Nagy u.14."
                                },
                                {
                                    "Város": "Lajosmizse",
                                    "Utca, házszám": " Kiss u. 32."
                                },
                                {
                                    "Város": "Sándorfalva",
                                    "Utca, házszám": " Nagy u.14."
                                },
                                {
                                    "Város": "Tiszaújváros",
                                    "Utca, házszám": " Kiss u. 32."
                                },
                                {
                                    "Város": "Bököny",
                                    "Utca, házszám": " Kiss u. 32."
                                },
                                {
                                    "Város": "Herceghalom",
                                    "Utca, házszám": " Kiss u. 32."
                                },
                                {
                                    "Város": "Hajdúszoboszló",
                                    "Utca, házszám": " Fő u. 2."
                                },
                                {
                                    "Város": "Dabas",
                                    "Utca, házszám": " Nagy u.14."
                                },
                                {
                                    "Város": "Nagyszénás",
                                    "Utca, házszám": " Nagy u.14."
                                },
                                {
                                    "Város": "Balotaszállás",
                                    "Utca, házszám": " Fő u. 2."
                                },
                                {
                                    "Város": "Tokodaltáró",
                                    "Utca, házszám": " Fő u. 2."
                                },
                                {
                                    "Város": "Sellye",
                                    "Utca, házszám": " Nagy u.14."
                                },
                                {
                                    "Város": "Tiszavasvári",
                                    "Utca, házszám": " Fő u. 2."
                                },
                                {
                                    "Város": "Hajdúszoboszló",
                                    "Utca, házszám": " Kiss u. 32."
                                },
                                {
                                    "Város": "Csanádpalota",
                                    "Utca, házszám": " Nagy u.14."
                                },
                                {
                                    "Város": "Törökszentmiklós",
                                    "Utca, házszám": " Kiss u. 32."
                                },
                                {
                                    "Város": "Agárd",
                                    "Utca, házszám": " Nagy u.14."
                                },
                                {
                                    "Város": "Miskolc",
                                    "Utca, házszám": " Fő u. 2."
                                },
                                {
                                    "Város": "Hajdúszoboszló",
                                    "Utca, házszám": " Nagy u.14."
                                },
                                {
                                    "Város": "Lajosmizse",
                                    "Utca, házszám": " Nagy u.14."
                                },
                                {
                                    "Város": "Fonyód",
                                    "Utca, házszám": " Fő u. 2."
                                },
                                {
                                    "Város": "Bácsalmás",
                                    "Utca, házszám": " Fő u. 2."
                                },
                                {
                                    "Város": "Szentgotthárd",
                                    "Utca, házszám": " Fő u. 2."
                                },
                                {
                                    "Város": "Kisújszállás",
                                    "Utca, házszám": " Nagy u.14."
                                },
                                {
                                    "Város": "Solt",
                                    "Utca, házszám": " Fő u. 2."
                                },
                                {
                                    "Város": "Magyarszék",
                                    "Utca, házszám": " Kiss u. 32."
                                },
                                {
                                    "Város": "Újfehértó",
                                    "Utca, házszám": " Nagy u.14."
                                },
                                {
                                    "Város": "Pusztamérges",
                                    "Utca, házszám": " Nagy u.14."
                                },
                                {
                                    "Város": "Martonvásár",
                                    "Utca, házszám": " Kiss u. 32."
                                },
                                {
                                    "Város": "Balotaszállás",
                                    "Utca, házszám": " Nagy u.14."
                                },
                                {
                                    "Város": "Abaújszántó",
                                    "Utca, házszám": " Fő u. 2."
                                },
                                {
                                    "Város": "Sármellék",
                                    "Utca, házszám": " Nagy u.14."
                                },
                                {
                                    "Város": "Herceghalom",
                                    "Utca, házszám": " Nagy u.14."
                                },
                                {
                                    "Város": "Bonyhád",
                                    "Utca, házszám": " Kiss u. 32."
                                },
                                {
                                    "Város": "Kimle",
                                    "Utca, házszám": " Nagy u.14."
                                },
                                {
                                    "Város": "Dunaharaszti",
                                    "Utca, házszám": " Fő u. 2."
                                },
                                {
                                    "Város": "Tiszavasvári",
                                    "Utca, házszám": " Kiss u. 32."
                                },
                                {
                                    "Város": "Kimle",
                                    "Utca, házszám": " Kiss u. 32."
                                },
                                {
                                    "Város": "Vésztő",
                                    "Utca, házszám": " Nagy u.14."
                                },
                                {
                                    "Város": "Bácsalmás",
                                    "Utca, házszám": " Kiss u. 32."
                                },
                                {
                                    "Város": "Balatonboglár",
                                    "Utca, házszám": " Fő u. 2."
                                },
                                {
                                    "Város": "Balmazújváros",
                                    "Utca, házszám": " Kiss u. 32."
                                }
                            ]
                        },
                        "text/html": "<table><tr><th>Város</th><th>Utca, házszám</th></tr><tr><td>Martonvásár</td><td> Fő u. 2.</td></tr><tr><td>Szécsény</td><td> Fő u. 2.</td></tr><tr><td>Pusztamérges</td><td> Fő u. 2.</td></tr><tr><td>Nagykanizsa</td><td> Kiss u. 32.</td></tr><tr><td>Kővágóörs</td><td> Nagy u.14.</td></tr><tr><td>Répcelak</td><td> Fő u. 2.</td></tr><tr><td>Göd</td><td> Kiss u. 32.</td></tr><tr><td>Vácszentlászló</td><td> Kiss u. 32.</td></tr><tr><td>Tótkomlós</td><td> Fő u. 2.</td></tr><tr><td>Békés</td><td> Fő u. 2.</td></tr><tr><td>Sármellék</td><td> Fő u. 2.</td></tr><tr><td>Tiszakécske</td><td> Fő u. 2.</td></tr><tr><td>Dédestapolcsány</td><td> Nagy u.14.</td></tr><tr><td>Jászkisér</td><td> Fő u. 2.</td></tr><tr><td>Bonyhád</td><td> Fő u. 2.</td></tr><tr><td>Nyíregyháza</td><td> Nagy u.14.</td></tr><tr><td>Szigetvár</td><td> Nagy u.14.</td></tr><tr><td>Újkígyós</td><td> Kiss u. 32.</td></tr><tr><td>Agárd</td><td> Kiss u. 32.</td></tr><tr><td>Putnok</td><td> Fő u. 2.</td></tr><tr><td>Görbeháza</td><td> Kiss u. 32.</td></tr><tr><td>Mezőkeresztes</td><td> Nagy u.14.</td></tr><tr><td>Tihany</td><td> Fő u. 2.</td></tr><tr><td>Kővágóörs</td><td> Fő u. 2.</td></tr><tr><td>Szeged</td><td> Kiss u. 32.</td></tr><tr><td>Balatonalmádi</td><td> Nagy u.14.</td></tr><tr><td>Répcelak</td><td> Kiss u. 32.</td></tr><tr><td>Balatonalmádi</td><td> Fő u. 2.</td></tr><tr><td>Vásárosnamény</td><td> Nagy u.14.</td></tr><tr><td>Nagyszénás</td><td> Fő u. 2.</td></tr><tr><td>Baja</td><td> Fő u. 2.</td></tr><tr><td>Nyíregyháza</td><td> Fő u. 2.</td></tr><tr><td>Káptalantóti</td><td> Kiss u. 32.</td></tr><tr><td>Vésztő</td><td> Fő u. 2.</td></tr><tr><td>Gödöllő</td><td> Fő u. 2.</td></tr><tr><td>Csorvás</td><td> Kiss u. 32.</td></tr><tr><td>Ötvöskónyi</td><td> Nagy u.14.</td></tr><tr><td>Sülysáp</td><td> Fő u. 2.</td></tr><tr><td>Ozora</td><td> Fő u. 2.</td></tr><tr><td>Örkény</td><td> Fő u. 2.</td></tr><tr><td>Újfehértó</td><td> Kiss u. 32.</td></tr><tr><td>Tiszasüly</td><td> Nagy u.14.</td></tr><tr><td>Ötvöskónyi</td><td> Kiss u. 32.</td></tr><tr><td>Tokaj</td><td> Kiss u. 32.</td></tr><tr><td>Balatongyörök</td><td> Nagy u.14.</td></tr><tr><td>Gyenesdiás</td><td> Fő u. 2.</td></tr><tr><td>Encs</td><td> Nagy u.14.</td></tr><tr><td>Gárdony</td><td> Fő u. 2.</td></tr><tr><td>Görbeháza</td><td> Fő u. 2.</td></tr><tr><td>Veszprém</td><td> Kiss u. 32.</td></tr><tr><td>Előszállás</td><td> Kiss u. 32.</td></tr><tr><td>Szombathely</td><td> Fő u. 2.</td></tr><tr><td>Sármellék</td><td> Kiss u. 32.</td></tr><tr><td>Edelény</td><td> Nagy u.14.</td></tr><tr><td>Rákóczifalva</td><td> Kiss u. 32.</td></tr><tr><td>Szigetvár</td><td> Fő u. 2.</td></tr><tr><td>Albertirsa</td><td> Nagy u.14.</td></tr><tr><td>Sülysáp</td><td> Nagy u.14.</td></tr><tr><td>Ruzsa</td><td> Fő u. 2.</td></tr><tr><td>Edelény</td><td> Fő u. 2.</td></tr><tr><td>Bököny</td><td> Fő u. 2.</td></tr><tr><td>Törökszentmiklós</td><td> Nagy u.14.</td></tr><tr><td>Szekszárd</td><td> Fő u. 2.</td></tr><tr><td>Balatonalmádi</td><td> Kiss u. 32.</td></tr><tr><td>Nagykanizsa</td><td> Fő u. 2.</td></tr><tr><td>Tömörkény</td><td> Kiss u. 32.</td></tr><tr><td>Szentendre</td><td> Nagy u.14.</td></tr><tr><td>Tatabánya</td><td> Kiss u. 32.</td></tr><tr><td>Magyarszék</td><td> Nagy u.14.</td></tr><tr><td>Cegléd</td><td> Nagy u.14.</td></tr><tr><td>Cegléd</td><td> Kiss u. 32.</td></tr><tr><td>Tihany</td><td> Nagy u.14.</td></tr><tr><td>Biharnagybajom</td><td> Kiss u. 32.</td></tr><tr><td>Sülysáp</td><td> Kiss u. 32.</td></tr><tr><td>Egyek</td><td> Fő u. 2.</td></tr><tr><td>Békés</td><td> Nagy u.14.</td></tr><tr><td>Báta</td><td> Nagy u.14.</td></tr><tr><td>Gönc</td><td> Fő u. 2.</td></tr><tr><td>Békés</td><td> Kiss u. 32.</td></tr><tr><td>Solt</td><td> Kiss u. 32.</td></tr><tr><td>Tömörkény</td><td> Fő u. 2.</td></tr><tr><td>Cserkeszőlő</td><td> Fő u. 2.</td></tr><tr><td>Balatonlelle</td><td> Kiss u. 32.</td></tr><tr><td>Kengyel</td><td> Nagy u.14.</td></tr><tr><td>Vác</td><td> Kiss u. 32.</td></tr><tr><td>Isaszeg</td><td> Fő u. 2.</td></tr><tr><td>Táborfalva</td><td> Fő u. 2.</td></tr><tr><td>Ráckeve</td><td> Kiss u. 32.</td></tr><tr><td>Fadd</td><td> Kiss u. 32.</td></tr><tr><td>Szank</td><td> Nagy u.14.</td></tr><tr><td>Gödöllő</td><td> Kiss u. 32.</td></tr><tr><td>Balassagyarmat</td><td> Fő u. 2.</td></tr><tr><td>Zsadány</td><td> Nagy u.14.</td></tr><tr><td>Csanádpalota</td><td> Kiss u. 32.</td></tr><tr><td>Répcelak</td><td> Nagy u.14.</td></tr><tr><td>Cigánd</td><td> Nagy u.14.</td></tr><tr><td>Dunaharaszti</td><td> Kiss u. 32.</td></tr><tr><td>Ásotthalom</td><td> Kiss u. 32.</td></tr><tr><td>Kistelek</td><td> Fő u. 2.</td></tr><tr><td>Győr</td><td> Kiss u. 32.</td></tr><tr><td>Tokaj</td><td> Fő u. 2.</td></tr><tr><td>Miskolc</td><td> Nagy u.14.</td></tr><tr><td>Herceghalom</td><td> Fő u. 2.</td></tr><tr><td>Ruzsa</td><td> Kiss u. 32.</td></tr><tr><td>Balatonlelle</td><td> Fő u. 2.</td></tr><tr><td>Csanádpalota</td><td> Fő u. 2.</td></tr><tr><td>Szank</td><td> Kiss u. 32.</td></tr><tr><td>Cegléd</td><td> Fő u. 2.</td></tr><tr><td>Szászvár</td><td> Kiss u. 32.</td></tr><tr><td>Vácszentlászló</td><td> Nagy u.14.</td></tr><tr><td>Tiszaújváros</td><td> Fő u. 2.</td></tr><tr><td>Szeged</td><td> Nagy u.14.</td></tr><tr><td>Dabas</td><td> Kiss u. 32.</td></tr><tr><td>Lajosmizse</td><td> Fő u. 2.</td></tr><tr><td>Bácsalmás</td><td> Nagy u.14.</td></tr><tr><td>Tokaj</td><td> Nagy u.14.</td></tr><tr><td>Szabadszállás</td><td> Kiss u. 32.</td></tr><tr><td>Szekszárd</td><td> Nagy u.14.</td></tr><tr><td>Szentgotthárd</td><td> Nagy u.14.</td></tr><tr><td>Martonvásár</td><td> Nagy u.14.</td></tr><tr><td>Kővágóörs</td><td> Kiss u. 32.</td></tr><tr><td>Újkígyós</td><td> Nagy u.14.</td></tr><tr><td>Besenyszög</td><td> Kiss u. 32.</td></tr><tr><td>Solt</td><td> Nagy u.14.</td></tr><tr><td>Tiszaújváros</td><td> Nagy u.14.</td></tr><tr><td>Kistelek</td><td> Kiss u. 32.</td></tr><tr><td>Lébény</td><td> Nagy u.14.</td></tr><tr><td>Kisújszállás</td><td> Kiss u. 32.</td></tr><tr><td>Újfehértó</td><td> Fő u. 2.</td></tr><tr><td>Balmazújváros</td><td> Fő u. 2.</td></tr><tr><td>Bököny</td><td> Nagy u.14.</td></tr><tr><td>Veszprém</td><td> Fő u. 2.</td></tr><tr><td>Baja</td><td> Kiss u. 32.</td></tr><tr><td>Balatonlelle</td><td> Nagy u.14.</td></tr><tr><td>Egyek</td><td> Kiss u. 32.</td></tr><tr><td>Vácszentlászló</td><td> Fő u. 2.</td></tr><tr><td>Kisújszállás</td><td> Fő u. 2.</td></tr><tr><td>Győr</td><td> Nagy u.14.</td></tr><tr><td>Balmazújváros</td><td> Nagy u.14.</td></tr><tr><td>Balotaszállás</td><td> Kiss u. 32.</td></tr><tr><td>Miskolc</td><td> Kiss u. 32.</td></tr><tr><td>Tihany</td><td> Kiss u. 32.</td></tr><tr><td>Csorvás</td><td> Fő u. 2.</td></tr><tr><td>Gönc</td><td> Kiss u. 32.</td></tr><tr><td>Kengyel</td><td> Fő u. 2.</td></tr><tr><td>Encs</td><td> Fő u. 2.</td></tr><tr><td>Eger</td><td> Kiss u. 32.</td></tr><tr><td>Budapest</td><td> Kiss u. 32.</td></tr><tr><td>Tolna</td><td> Fő u. 2.</td></tr><tr><td>Dédestapolcsány</td><td> Fő u. 2.</td></tr><tr><td>Dabas</td><td> Fő u. 2.</td></tr><tr><td>Tiszasüly</td><td> Fő u. 2.</td></tr><tr><td>Cigánd</td><td> Fő u. 2.</td></tr><tr><td>Besenyszög</td><td> Fő u. 2.</td></tr><tr><td>Sarkad</td><td> Fő u. 2.</td></tr><tr><td>Nagykörű</td><td> Nagy u.14.</td></tr><tr><td>Balatonboglár</td><td> Kiss u. 32.</td></tr><tr><td>Tótkomlós</td><td> Nagy u.14.</td></tr><tr><td>Balatongyörök</td><td> Fő u. 2.</td></tr><tr><td>Agárd</td><td> Fő u. 2.</td></tr><tr><td>Jászkisér</td><td> Nagy u.14.</td></tr><tr><td>Ráckeve</td><td> Fő u. 2.</td></tr><tr><td>Szeged</td><td> Fő u. 2.</td></tr><tr><td>Vásárosnamény</td><td> Kiss u. 32.</td></tr><tr><td>Albertirsa</td><td> Kiss u. 32.</td></tr><tr><td>Szekszárd</td><td> Kiss u. 32.</td></tr><tr><td>Dédestapolcsány</td><td> Kiss u. 32.</td></tr><tr><td>Putnok</td><td> Kiss u. 32.</td></tr><tr><td>Budapest</td><td> Fő u. 2.</td></tr><tr><td>Tatabánya</td><td> Fő u. 2.</td></tr><tr><td>Fadd</td><td> Fő u. 2.</td></tr><tr><td>Szászvár</td><td> Nagy u.14.</td></tr><tr><td>Veszprém</td><td> Nagy u.14.</td></tr><tr><td>Kimle</td><td> Fő u. 2.</td></tr><tr><td>Besenyszög</td><td> Nagy u.14.</td></tr><tr><td>Nagykörű</td><td> Fő u. 2.</td></tr><tr><td>Tiszakécske</td><td> Kiss u. 32.</td></tr><tr><td>Balatongyörök</td><td> Kiss u. 32.</td></tr><tr><td>Báta</td><td> Fő u. 2.</td></tr><tr><td>Előszállás</td><td> Fő u. 2.</td></tr><tr><td>Tokodaltáró</td><td> Kiss u. 32.</td></tr><tr><td>Zsadány</td><td> Fő u. 2.</td></tr><tr><td>Egyek</td><td> Nagy u.14.</td></tr><tr><td>Bokod</td><td> Fő u. 2.</td></tr><tr><td>Tömörkény</td><td> Nagy u.14.</td></tr><tr><td>Káptalantóti</td><td> Nagy u.14.</td></tr><tr><td>Pilisvörösvár</td><td> Fő u. 2.</td></tr><tr><td>Gödöllő</td><td> Nagy u.14.</td></tr><tr><td>Szentendre</td><td> Kiss u. 32.</td></tr><tr><td>Magyarszék</td><td> Fő u. 2.</td></tr><tr><td>Sarkad</td><td> Kiss u. 32.</td></tr><tr><td>Vésztő</td><td> Kiss u. 32.</td></tr><tr><td>Káptalantóti</td><td> Fő u. 2.</td></tr><tr><td>Ozora</td><td> Kiss u. 32.</td></tr><tr><td>Lébény</td><td> Kiss u. 32.</td></tr><tr><td>Nagykörű</td><td> Kiss u. 32.</td></tr><tr><td>Sárbogárd</td><td> Fő u. 2.</td></tr><tr><td>Tiszavasvári</td><td> Nagy u.14.</td></tr><tr><td>Kistelek</td><td> Nagy u.14.</td></tr><tr><td>Tolna</td><td> Kiss u. 32.</td></tr><tr><td>Sellye</td><td> Kiss u. 32.</td></tr><tr><td>Makó</td><td> Kiss u. 32.</td></tr><tr><td>Sárbogárd</td><td> Kiss u. 32.</td></tr><tr><td>Nyíregyháza</td><td> Kiss u. 32.</td></tr><tr><td>Csorvás</td><td> Nagy u.14.</td></tr><tr><td>Cigánd</td><td> Kiss u. 32.</td></tr><tr><td>Sándorfalva</td><td> Fő u. 2.</td></tr><tr><td>Ráckeve</td><td> Nagy u.14.</td></tr><tr><td>Ozora</td><td> Nagy u.14.</td></tr><tr><td>Szabadszállás</td><td> Fő u. 2.</td></tr><tr><td>Pusztamérges</td><td> Kiss u. 32.</td></tr><tr><td>Vásárosnamény</td><td> Fő u. 2.</td></tr><tr><td>Sátoraljaújhely</td><td> Nagy u.14.</td></tr><tr><td>Ruzsa</td><td> Nagy u.14.</td></tr><tr><td>Pilisvörösvár</td><td> Kiss u. 32.</td></tr><tr><td>Sarkad</td><td> Nagy u.14.</td></tr><tr><td>Sátoraljaújhely</td><td> Fő u. 2.</td></tr><tr><td>Kisvárda</td><td> Fő u. 2.</td></tr><tr><td>Pilisvörösvár</td><td> Nagy u.14.</td></tr><tr><td>Tolna</td><td> Nagy u.14.</td></tr><tr><td>Vác</td><td> Fő u. 2.</td></tr><tr><td>Szentgotthárd</td><td> Kiss u. 32.</td></tr><tr><td>Báta</td><td> Kiss u. 32.</td></tr><tr><td>Mezőkeresztes</td><td> Kiss u. 32.</td></tr><tr><td>Abaújszántó</td><td> Kiss u. 32.</td></tr><tr><td>Piliscsaba</td><td> Nagy u.14.</td></tr><tr><td>Fonyód</td><td> Kiss u. 32.</td></tr><tr><td>Balassagyarmat</td><td> Nagy u.14.</td></tr><tr><td>Nagyszénás</td><td> Kiss u. 32.</td></tr><tr><td>Szigetvár</td><td> Kiss u. 32.</td></tr><tr><td>Szászvár</td><td> Fő u. 2.</td></tr><tr><td>Tatabánya</td><td> Nagy u.14.</td></tr><tr><td>Sándorfalva</td><td> Kiss u. 32.</td></tr><tr><td>Albertirsa</td><td> Fő u. 2.</td></tr><tr><td>Szentendre</td><td> Fő u. 2.</td></tr><tr><td>Bokod</td><td> Kiss u. 32.</td></tr><tr><td>Fadd</td><td> Nagy u.14.</td></tr><tr><td>Szabadszállás</td><td> Nagy u.14.</td></tr><tr><td>Tótkomlós</td><td> Kiss u. 32.</td></tr><tr><td>Bokod</td><td> Nagy u.14.</td></tr><tr><td>Tiszasüly</td><td> Kiss u. 32.</td></tr><tr><td>Jászkisér</td><td> Kiss u. 32.</td></tr><tr><td>Lébény</td><td> Fő u. 2.</td></tr><tr><td>Örkény</td><td> Kiss u. 32.</td></tr><tr><td>Isaszeg</td><td> Kiss u. 32.</td></tr><tr><td>Fonyód</td><td> Nagy u.14.</td></tr><tr><td>Táborfalva</td><td> Kiss u. 32.</td></tr><tr><td>Göd</td><td> Fő u. 2.</td></tr><tr><td>Előszállás</td><td> Nagy u.14.</td></tr><tr><td>Szank</td><td> Fő u. 2.</td></tr><tr><td>Isaszeg</td><td> Nagy u.14.</td></tr><tr><td>Eger</td><td> Nagy u.14.</td></tr><tr><td>Győr</td><td> Fő u. 2.</td></tr><tr><td>Sellye</td><td> Fő u. 2.</td></tr><tr><td>Törökszentmiklós</td><td> Fő u. 2.</td></tr><tr><td>Zsadány</td><td> Kiss u. 32.</td></tr><tr><td>Gyenesdiás</td><td> Nagy u.14.</td></tr><tr><td>Budapest</td><td> Nagy u.14.</td></tr><tr><td>Lajosmizse</td><td> Kiss u. 32.</td></tr><tr><td>Sándorfalva</td><td> Nagy u.14.</td></tr><tr><td>Tiszaújváros</td><td> Kiss u. 32.</td></tr><tr><td>Bököny</td><td> Kiss u. 32.</td></tr><tr><td>Herceghalom</td><td> Kiss u. 32.</td></tr><tr><td>Hajdúszoboszló</td><td> Fő u. 2.</td></tr><tr><td>Dabas</td><td> Nagy u.14.</td></tr><tr><td>Nagyszénás</td><td> Nagy u.14.</td></tr><tr><td>Balotaszállás</td><td> Fő u. 2.</td></tr><tr><td>Tokodaltáró</td><td> Fő u. 2.</td></tr><tr><td>Sellye</td><td> Nagy u.14.</td></tr><tr><td>Tiszavasvári</td><td> Fő u. 2.</td></tr><tr><td>Hajdúszoboszló</td><td> Kiss u. 32.</td></tr><tr><td>Csanádpalota</td><td> Nagy u.14.</td></tr><tr><td>Törökszentmiklós</td><td> Kiss u. 32.</td></tr><tr><td>Agárd</td><td> Nagy u.14.</td></tr><tr><td>Miskolc</td><td> Fő u. 2.</td></tr><tr><td>Hajdúszoboszló</td><td> Nagy u.14.</td></tr><tr><td>Lajosmizse</td><td> Nagy u.14.</td></tr><tr><td>Fonyód</td><td> Fő u. 2.</td></tr><tr><td>Bácsalmás</td><td> Fő u. 2.</td></tr><tr><td>Szentgotthárd</td><td> Fő u. 2.</td></tr><tr><td>Kisújszállás</td><td> Nagy u.14.</td></tr><tr><td>Solt</td><td> Fő u. 2.</td></tr><tr><td>Magyarszék</td><td> Kiss u. 32.</td></tr><tr><td>Újfehértó</td><td> Nagy u.14.</td></tr><tr><td>Pusztamérges</td><td> Nagy u.14.</td></tr><tr><td>Martonvásár</td><td> Kiss u. 32.</td></tr><tr><td>Balotaszállás</td><td> Nagy u.14.</td></tr><tr><td>Abaújszántó</td><td> Fő u. 2.</td></tr><tr><td>Sármellék</td><td> Nagy u.14.</td></tr><tr><td>Herceghalom</td><td> Nagy u.14.</td></tr><tr><td>Bonyhád</td><td> Kiss u. 32.</td></tr><tr><td>Kimle</td><td> Nagy u.14.</td></tr><tr><td>Dunaharaszti</td><td> Fő u. 2.</td></tr><tr><td>Tiszavasvári</td><td> Kiss u. 32.</td></tr><tr><td>Kimle</td><td> Kiss u. 32.</td></tr><tr><td>Vésztő</td><td> Nagy u.14.</td></tr><tr><td>Bácsalmás</td><td> Kiss u. 32.</td></tr><tr><td>Balatonboglár</td><td> Fő u. 2.</td></tr><tr><td>Balmazújváros</td><td> Kiss u. 32.</td></tr></table>"
                    },
                    "metadata": {}
                }
            ],
            "execution_count": 23
        },
        {
            "cell_type": "markdown",
            "source": [
                "**2\\. oszlop 1. lekérdezés**\n",
                "\n",
                "Melyik napokon volt, amikor a TOP 10 legkevesebb rendelést adtak le?"
            ],
            "metadata": {
                "azdata_cell_guid": "bb2043dd-aebe-4824-9fe7-7b11f00a0b5f"
            },
            "attachments": {}
        },
        {
            "cell_type": "code",
            "source": [
                "SELECT TOP(10) REND_DATUM AS 'Rendelési dátum', COUNT(*) AS 'Rendelés db'\r\n",
                "FROM Rendeles\r\n",
                "GROUP BY REND_DATUM\r\n",
                "ORDER BY COUNT(*) ASC, REND_DATUM ASC"
            ],
            "metadata": {
                "azdata_cell_guid": "47c9a81d-7792-4421-ac45-a8d02649b5e0",
                "language": "sql"
            },
            "outputs": [
                {
                    "output_type": "display_data",
                    "data": {
                        "text/html": "(10 rows affected)"
                    },
                    "metadata": {}
                },
                {
                    "output_type": "display_data",
                    "data": {
                        "text/html": "Total execution time: 00:00:00.125"
                    },
                    "metadata": {}
                },
                {
                    "output_type": "execute_result",
                    "execution_count": 7,
                    "data": {
                        "application/vnd.dataresource+json": {
                            "schema": {
                                "fields": [
                                    {
                                        "name": "Rendelési dátum"
                                    },
                                    {
                                        "name": "Rendelés db"
                                    }
                                ]
                            },
                            "data": [
                                {
                                    "Rendelési dátum": "2017-01-27",
                                    "Rendelés db": "29"
                                },
                                {
                                    "Rendelési dátum": "2016-01-22",
                                    "Rendelés db": "30"
                                },
                                {
                                    "Rendelési dátum": "2016-07-20",
                                    "Rendelés db": "30"
                                },
                                {
                                    "Rendelési dátum": "2015-05-01",
                                    "Rendelés db": "31"
                                },
                                {
                                    "Rendelési dátum": "2015-05-21",
                                    "Rendelés db": "31"
                                },
                                {
                                    "Rendelési dátum": "2016-02-11",
                                    "Rendelés db": "31"
                                },
                                {
                                    "Rendelési dátum": "2016-11-17",
                                    "Rendelés db": "31"
                                },
                                {
                                    "Rendelési dátum": "2017-01-05",
                                    "Rendelés db": "31"
                                },
                                {
                                    "Rendelési dátum": "2015-07-03",
                                    "Rendelés db": "32"
                                },
                                {
                                    "Rendelési dátum": "2015-11-04",
                                    "Rendelés db": "32"
                                }
                            ]
                        },
                        "text/html": "<table><tr><th>Rendelési dátum</th><th>Rendelés db</th></tr><tr><td>2017-01-27</td><td>29</td></tr><tr><td>2016-01-22</td><td>30</td></tr><tr><td>2016-07-20</td><td>30</td></tr><tr><td>2015-05-01</td><td>31</td></tr><tr><td>2015-05-21</td><td>31</td></tr><tr><td>2016-02-11</td><td>31</td></tr><tr><td>2016-11-17</td><td>31</td></tr><tr><td>2017-01-05</td><td>31</td></tr><tr><td>2015-07-03</td><td>32</td></tr><tr><td>2015-11-04</td><td>32</td></tr></table>"
                    },
                    "metadata": {}
                }
            ],
            "execution_count": 7
        },
        {
            "cell_type": "markdown",
            "source": [
                "**2\\. oszlop 2. lekérdezés**\n",
                "\n",
                "Hány rendelés volt 2015 nyarán?"
            ],
            "metadata": {
                "azdata_cell_guid": "67aa3d92-220c-4890-ad27-3c9ec8dc81c8"
            },
            "attachments": {}
        },
        {
            "cell_type": "code",
            "source": [
                "SELECT COUNT(*) AS 'Rendelések száma 2015 nyarán'\r\n",
                "FROM Rendeles\r\n",
                "WHERE MONTH(REND_DATUM) IN (6, 7, 8) AND YEAR(REND_DATUM) = 2015"
            ],
            "metadata": {
                "azdata_cell_guid": "2693535f-1c11-4efd-a02e-7ffe4225354f",
                "language": "sql"
            },
            "outputs": [
                {
                    "output_type": "display_data",
                    "data": {
                        "text/html": "(1 row affected)"
                    },
                    "metadata": {}
                },
                {
                    "output_type": "display_data",
                    "data": {
                        "text/html": "Total execution time: 00:00:00.033"
                    },
                    "metadata": {}
                },
                {
                    "output_type": "execute_result",
                    "execution_count": 77,
                    "data": {
                        "application/vnd.dataresource+json": {
                            "schema": {
                                "fields": [
                                    {
                                        "name": "Rendelések száma 2015 nyarán"
                                    }
                                ]
                            },
                            "data": [
                                {
                                    "Rendelések száma 2015 nyarán": "3666"
                                }
                            ]
                        },
                        "text/html": "<table><tr><th>Rendelések száma 2015 nyarán</th></tr><tr><td>3666</td></tr></table>"
                    },
                    "metadata": {}
                }
            ],
            "execution_count": 77
        },
        {
            "cell_type": "markdown",
            "source": [
                "**2\\. oszlop 3. lekérdezés**\n",
                "\n",
                "Hány rendelés történt a legutóbbi 10 napon?"
            ],
            "metadata": {
                "azdata_cell_guid": "00a03707-b22e-4080-abdb-c734a0f09ccb"
            },
            "attachments": {}
        },
        {
            "cell_type": "code",
            "source": [
                "SELECT REND_DATUM AS 'Rendelés dátuma', COUNT(*) AS 'Rendelések száma'\r\n",
                "FROM Rendeles\r\n",
                "WHERE REND_DATUM IN(\r\n",
                "    SELECT TOP(10) REND_DATUM\r\n",
                "    FROM Rendeles\r\n",
                "    GROUP BY REND_DATUM\r\n",
                "    ORDER BY REND_DATUM DESC\r\n",
                ")\r\n",
                "GROUP BY REND_DATUM\r\n",
                "ORDER BY REND_DATUM DESC"
            ],
            "metadata": {
                "azdata_cell_guid": "9c753c8a-b541-4a39-8a64-bc74b80679f6",
                "language": "sql"
            },
            "outputs": [
                {
                    "output_type": "display_data",
                    "data": {
                        "text/html": "(10 rows affected)"
                    },
                    "metadata": {}
                },
                {
                    "output_type": "display_data",
                    "data": {
                        "text/html": "Total execution time: 00:00:00.067"
                    },
                    "metadata": {}
                },
                {
                    "output_type": "execute_result",
                    "execution_count": 22,
                    "data": {
                        "application/vnd.dataresource+json": {
                            "schema": {
                                "fields": [
                                    {
                                        "name": "Rendelés dátuma"
                                    },
                                    {
                                        "name": "Rendelések száma"
                                    }
                                ]
                            },
                            "data": [
                                {
                                    "Rendelés dátuma": "2017-04-01",
                                    "Rendelések száma": "38"
                                },
                                {
                                    "Rendelés dátuma": "2017-03-31",
                                    "Rendelések száma": "41"
                                },
                                {
                                    "Rendelés dátuma": "2017-03-30",
                                    "Rendelések száma": "38"
                                },
                                {
                                    "Rendelés dátuma": "2017-03-29",
                                    "Rendelések száma": "36"
                                },
                                {
                                    "Rendelés dátuma": "2017-03-28",
                                    "Rendelések száma": "38"
                                },
                                {
                                    "Rendelés dátuma": "2017-03-27",
                                    "Rendelések száma": "42"
                                },
                                {
                                    "Rendelés dátuma": "2017-03-26",
                                    "Rendelések száma": "43"
                                },
                                {
                                    "Rendelés dátuma": "2017-03-25",
                                    "Rendelések száma": "43"
                                },
                                {
                                    "Rendelés dátuma": "2017-03-24",
                                    "Rendelések száma": "38"
                                },
                                {
                                    "Rendelés dátuma": "2017-03-23",
                                    "Rendelések száma": "42"
                                }
                            ]
                        },
                        "text/html": "<table><tr><th>Rendelés dátuma</th><th>Rendelések száma</th></tr><tr><td>2017-04-01</td><td>38</td></tr><tr><td>2017-03-31</td><td>41</td></tr><tr><td>2017-03-30</td><td>38</td></tr><tr><td>2017-03-29</td><td>36</td></tr><tr><td>2017-03-28</td><td>38</td></tr><tr><td>2017-03-27</td><td>42</td></tr><tr><td>2017-03-26</td><td>43</td></tr><tr><td>2017-03-25</td><td>43</td></tr><tr><td>2017-03-24</td><td>38</td></tr><tr><td>2017-03-23</td><td>42</td></tr></table>"
                    },
                    "metadata": {
                        "azdata_chartOptions": {
                            "type": "bar",
                            "dataDirection": "vertical",
                            "columnsAsLabels": true,
                            "labelFirstColumn": false,
                            "legendPosition": "top",
                            "dataType": "number"
                        }
                    }
                }
            ],
            "execution_count": 22
        },
        {
            "cell_type": "markdown",
            "source": [
                "**2\\. oszlop 4. lekérdezés**\n",
                "\n",
                "Hány rendelés volt az egyes évszakokban?"
            ],
            "metadata": {
                "azdata_cell_guid": "780f3612-3503-42ab-b22c-cf5d9a88a6e4"
            },
            "attachments": {}
        },
        {
            "cell_type": "code",
            "source": [
                "SELECT CASE WHEN MONTH(REND_DATUM) IN (12, 1, 2) THEN 'Tél'\r\n",
                "            WHEN MONTH(REND_DATUM) IN (3, 4, 5) THEN 'Tavasz'\r\n",
                "            WHEN MONTH(REND_DATUM) IN (6, 7, 8) THEN 'Nyár'\r\n",
                "            ELSE 'Ősz'\r\n",
                "            END AS 'Évszak',\r\n",
                "            COUNT(*) AS 'Rendelés db'\r\n",
                "FROM Rendeles\r\n",
                "GROUP BY CASE WHEN MONTH(REND_DATUM) IN (12, 1, 2) THEN 'Tél'\r\n",
                "            WHEN MONTH(REND_DATUM) IN (3, 4, 5) THEN 'Tavasz'\r\n",
                "            WHEN MONTH(REND_DATUM) IN (6, 7, 8) THEN 'Nyár'\r\n",
                "            ELSE 'Ősz'\r\n",
                "            END\r\n",
                "ORDER BY COUNT(*) ASC"
            ],
            "metadata": {
                "azdata_cell_guid": "d5304258-6b6f-431f-ac5a-4cf0bb5cecfb",
                "language": "sql"
            },
            "outputs": [
                {
                    "output_type": "display_data",
                    "data": {
                        "text/html": "(4 rows affected)"
                    },
                    "metadata": {}
                },
                {
                    "output_type": "display_data",
                    "data": {
                        "text/html": "Total execution time: 00:00:00.072"
                    },
                    "metadata": {}
                },
                {
                    "output_type": "execute_result",
                    "execution_count": 24,
                    "data": {
                        "application/vnd.dataresource+json": {
                            "schema": {
                                "fields": [
                                    {
                                        "name": "Évszak"
                                    },
                                    {
                                        "name": "Rendelés db"
                                    }
                                ]
                            },
                            "data": [
                                {
                                    "Évszak": "Tavasz",
                                    "Rendelés db": "6234"
                                },
                                {
                                    "Évszak": "Tél",
                                    "Rendelés db": "7191"
                                },
                                {
                                    "Évszak": "Ősz",
                                    "Rendelés db": "7297"
                                },
                                {
                                    "Évszak": "Nyár",
                                    "Rendelés db": "7363"
                                }
                            ]
                        },
                        "text/html": "<table><tr><th>Évszak</th><th>Rendelés db</th></tr><tr><td>Tavasz</td><td>6234</td></tr><tr><td>Tél</td><td>7191</td></tr><tr><td>Ősz</td><td>7297</td></tr><tr><td>Nyár</td><td>7363</td></tr></table>"
                    },
                    "metadata": {
                        "azdata_chartOptions": {
                            "type": "bar",
                            "dataDirection": "vertical",
                            "columnsAsLabels": true,
                            "labelFirstColumn": false,
                            "legendPosition": "top"
                        }
                    }
                }
            ],
            "execution_count": 24
        }
    ]
}